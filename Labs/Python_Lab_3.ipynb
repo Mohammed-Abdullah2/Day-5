{
 "cells": [
  {
   "cell_type": "markdown",
   "metadata": {},
   "source": [
    "# Python_Lab_3\n"
   ]
  },
  {
   "cell_type": "markdown",
   "metadata": {},
   "source": [
    "### Task 1\n",
    "- Write a function named **'create_student_records'** that takes a list of tuples. Each tuple contains a student's name and their scores in three subjects. The function should return a list of dictionaries, where each dictionary represents a student with keys: name, subject1, subject2, subject3. Use list comprehension to create the list of dictionaries."
   ]
  },
  {
   "cell_type": "code",
   "execution_count": 16,
   "metadata": {},
   "outputs": [
    {
     "name": "stdout",
     "output_type": "stream",
     "text": [
      "[{'name': 'Abdullah', 'subject1': 20, 'subject2': 40, 'subject3': 30}, {'name': 'Mohammed', 'subject1': 95, 'subject2': 80, 'subject3': 100}]\n"
     ]
    }
   ],
   "source": [
    "# write your code here ^_^\n",
    "def create_student_records(students):\n",
    "    j = [\"name\",\"subject1\",\"subject2\",\"subject3\"]\n",
    "    dict_student = [dict(zip(j,i)) for i in students]\n",
    "    return dict_student\n",
    "students = [(\"Abdullah\",20,40,30),(\"Mohammed\",95,80,100)]\n",
    "students_dict = create_student_records(students)\n",
    "print(students_dict)"
   ]
  },
  {
   "cell_type": "markdown",
   "metadata": {},
   "source": [
    "### Task 2\n",
    "- Write a function named **'filter_and_sort_students'** that takes the list of dictionaries from Question 1 and returns a sorted list of student names who have an average score of 80 or more across all subjects. Sort the names in alphabetical order."
   ]
  },
  {
   "cell_type": "code",
   "execution_count": 18,
   "metadata": {},
   "outputs": [
    {
     "name": "stdout",
     "output_type": "stream",
     "text": [
      "['Mohammed']\n"
     ]
    }
   ],
   "source": [
    "# write your code here ^_^\n",
    "def filter_and_sort_students(so_fi_list):\n",
    "    filter_list = [i[\"name\"] for i in so_fi_list if i[\"subject1\"] + i[\"subject2\"] + i[\"subject3\"] / 3 >=80 ]\n",
    "    sort_list = sorted(filter_list)\n",
    "    return sort_list\n",
    "new_list_students = filter_and_sort_students(students_dict)\n",
    "print(new_list_students)"
   ]
  },
  {
   "cell_type": "markdown",
   "metadata": {},
   "source": [
    "### Task 3\n",
    "- Write a function named **'get_product_info'** that prompts the user to enter information about a product. The function should ask for the product name, product price, and product quantity. If the user enters an invalid input (e.g., a non-numeric value for the price or quantity), the function should handle the error and prompt the user to enter the value again. Return a dictionary containing the product information."
   ]
  },
  {
   "cell_type": "code",
   "execution_count": 11,
   "metadata": {},
   "outputs": [
    {
     "name": "stdin",
     "output_type": "stream",
     "text": [
      "input(Enter Product Name :  car\n",
      "Enter Product price :  ds\n"
     ]
    },
    {
     "name": "stdout",
     "output_type": "stream",
     "text": [
      "invalid input please try another one\n"
     ]
    },
    {
     "name": "stdin",
     "output_type": "stream",
     "text": [
      "Enter Product price :  15\n",
      "Enter Product quantity :  ef\n"
     ]
    },
    {
     "name": "stdout",
     "output_type": "stream",
     "text": [
      "invalid input please try another one\n"
     ]
    },
    {
     "name": "stdin",
     "output_type": "stream",
     "text": [
      "Enter Product quantity :  20\n"
     ]
    },
    {
     "name": "stdout",
     "output_type": "stream",
     "text": [
      "{'Product Name': 'car', 'Product price': 15, 'Product quantity': 20}\n"
     ]
    }
   ],
   "source": [
    "# write your code here ^_^\n",
    "def get_product_info() : \n",
    "    name = input(\"input(Enter Product Name : \")\n",
    "    while True:\n",
    "        try :\n",
    "            price = int(input(\"Enter Product price : \"))\n",
    "            #quantity = int(input(\"Enter Product quantity : \"))\n",
    "            break\n",
    "        except ValueError :\n",
    "               print(\"invalid input please try another one\")\n",
    "    while True:\n",
    "        try :\n",
    "            quantity = int(input(\"Enter Product quantity : \"))\n",
    "            break\n",
    "        except ValueError :\n",
    "               print(\"invalid input please try another one\")\n",
    "            \n",
    "    dict_proudct = {\"Product Name\": name ,\n",
    "                    \"Product price\": price,\n",
    "                    \"Product quantity\": quantity\n",
    "                   }\n",
    "    return print(dict_proudct)\n",
    "\n",
    "product_info = get_product_info()"
   ]
  },
  {
   "cell_type": "markdown",
   "metadata": {},
   "source": [
    "### Task 4\n",
    "- Write a function named **'get_even_numbers'** that takes a list of integers and returns a list of even numbers using list comprehension."
   ]
  },
  {
   "cell_type": "code",
   "execution_count": 17,
   "metadata": {},
   "outputs": [
    {
     "name": "stdout",
     "output_type": "stream",
     "text": [
      "[2, 4, 6, 8, 10, 12, 14, 16, 18, 20, 22, 24, 26, 28, 30, 32, 34, 36, 38, 40, 42, 44, 46, 48]\n"
     ]
    }
   ],
   "source": [
    "# write your code here ^_^\n",
    "def get_even_numbers(even_num):\n",
    "    lst_even = [i for i in even_num if i % 2 == 0]\n",
    "    return lst_even\n",
    "my_list = [i for i in range(1,50)]\n",
    "print(get_even_numbers(my_list))"
   ]
  },
  {
   "cell_type": "markdown",
   "metadata": {},
   "source": [
    "### Task 5\n",
    "- Write a function named **'pair_elements'** that takes two lists of equal length as parameters and returns a list of tuples, where each tuple contains corresponding elements from the two lists. Use the zip function to achieve this."
   ]
  },
  {
   "cell_type": "code",
   "execution_count": 25,
   "metadata": {},
   "outputs": [
    {
     "name": "stdout",
     "output_type": "stream",
     "text": [
      "[(1, 2), (2, 4), (3, 6), (4, 8), (5, 10), (6, 12), (7, 14), (8, 16), (9, 18), (10, 20), (11, 22), (12, 24), (13, 26), (14, 28), (15, 30), (16, 32), (17, 34), (18, 36), (19, 38)]\n"
     ]
    }
   ],
   "source": [
    "# write your code here ^_^\n",
    "def pair_elements(lst1,lst2):\n",
    "    if len(lst1) == len(lst2):\n",
    "         new_list = list(zip(lst1,lst2))\n",
    "         return new_list\n",
    "    else :\n",
    "        print(\"The length don't match\")\n",
    "lst1 = [i for i in range(1,20)]\n",
    "lst2 = [i * 2 for i in range(1,20)]\n",
    "print(pair_elements(lst1,lst2))"
   ]
  },
  {
   "cell_type": "markdown",
   "metadata": {},
   "source": [
    "### Task 6\n",
    "- Write a function named **'square_dict_lambda'** that takes a list of integers and returns a dictionary where the keys are the integers and the values are their squares. Use a lambda function within a dictionary comprehension to achieve this."
   ]
  },
  {
   "cell_type": "code",
   "execution_count": 27,
   "metadata": {},
   "outputs": [
    {
     "data": {
      "text/plain": [
       "{1: 1, 2: 4, 3: 9, 4: 16, 5: 25, 6: 36, 7: 49, 8: 64, 9: 81}"
      ]
     },
     "execution_count": 27,
     "metadata": {},
     "output_type": "execute_result"
    }
   ],
   "source": [
    "# write your code here ^_^\n",
    "lst = [i for i in range(1,10)]\n",
    "square_dict_lambda = lambda x : {i:i*i for i in x }\n",
    "square_dict_lambda(lst)"
   ]
  }
 ],
 "metadata": {
  "kernelspec": {
   "display_name": "Python 3 (ipykernel)",
   "language": "python",
   "name": "python3"
  },
  "language_info": {
   "codemirror_mode": {
    "name": "ipython",
    "version": 3
   },
   "file_extension": ".py",
   "mimetype": "text/x-python",
   "name": "python",
   "nbconvert_exporter": "python",
   "pygments_lexer": "ipython3",
   "version": "3.12.4"
  }
 },
 "nbformat": 4,
 "nbformat_minor": 4
}
